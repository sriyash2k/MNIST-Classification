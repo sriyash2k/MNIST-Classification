{
 "cells": [
  {
   "cell_type": "code",
   "execution_count": null,
   "metadata": {},
   "outputs": [],
   "source": [
    "from sklearn.datasets import load_digits\n",
    "import pandas as pd\n",
    "import numpy as np\n",
    "import pandas as pd\n",
    "import matplotlib.pyplot as plt\n",
    "from keras.layers import Dense\n",
    "from keras.models import Sequential\n",
    "from sklearn.preprocessing import OneHotEncoder\n",
    "from sklearn.model_selection import train_test_split"
   ]
  },
  {
   "cell_type": "code",
   "execution_count": null,
   "metadata": {},
   "outputs": [],
   "source": [
    "x,y=load_digits(return_X_y=True)\n",
    "x1=np.max(x,axis=0).reshape(-1,64)\n",
    "for i in range(0,64):\n",
    "    if(x1[0, i]!=0):\n",
    "        x[:, i]/=x1[0, i]\n",
    "y=y.reshape(-1,1)\n",
    "one=OneHotEncoder()\n",
    "y=one.fit_transform(y).toarray()\n",
    "x_train,x_test,y_train,y_test=train_test_split(x,y,test_size=0.2)"
   ]
  },
  {
   "cell_type": "code",
   "execution_count": null,
   "metadata": {},
   "outputs": [],
   "source": [
    "model=Sequential()\n",
    "model.add(Dense(input_dim=64,units=1024,activation=\"relu\",kernel_initializer=\"random_uniform\"))\n",
    "model.add(Dense(units=500,activation=\"relu\",kernel_initializer=\"random_uniform\"))\n",
    "model.add(Dense(units=10,activation=\"softmax\",kernel_initializer=\"random_uniform\"))\n",
    "model.compile(optimizer=\"adam\",metrics=['accuracy'],loss=\"categorical_crossentropy\")\n",
    "history=model.fit(x_train,y_train,shuffle=1,epochs=3,batch_size=9,validation_data=(x_test,y_test))"
   ]
  },
  {
   "cell_type": "code",
   "execution_count": null,
   "metadata": {},
   "outputs": [],
   "source": [
    "plt.plot(history.history['accuracy'])\n",
    "plt.plot(history.history['val_accuracy'])\n",
    "plt.title('Accuracy')\n",
    "plt.ylabel('Accuracy')\n",
    "plt.xlabel('Epoch')\n",
    "plt.legend(['Accuracy', 'Validation Accuracy'], loc='upper left')\n",
    "plt.savefig(\"Accuracy.png\")\n",
    "plt.show()"
   ]
  }
 ],
 "metadata": {
  "kernelspec": {
   "display_name": "Python 3",
   "language": "python",
   "name": "python3"
  },
  "language_info": {
   "codemirror_mode": {
    "name": "ipython",
    "version": 3
   },
   "file_extension": ".py",
   "mimetype": "text/x-python",
   "name": "python",
   "nbconvert_exporter": "python",
   "pygments_lexer": "ipython3",
   "version": "3.6.9"
  }
 },
 "nbformat": 4,
 "nbformat_minor": 4
}
